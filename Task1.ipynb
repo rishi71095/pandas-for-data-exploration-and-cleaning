{
 "cells": [
  {
   "cell_type": "markdown",
   "id": "8e3920e7-cf53-4778-84db-0b4c6e0efe97",
   "metadata": {},
   "source": [
    "# Treasure hunt with Pandas"
   ]
  },
  {
   "cell_type": "markdown",
   "id": "85595b9b-b369-41b4-bb1b-ffb2d89259cd",
   "metadata": {},
   "source": [
    "The result of our indexing should always be the string `'TREASURE'`."
   ]
  },
  {
   "cell_type": "code",
   "execution_count": 1,
   "id": "02ddb600-a75f-4d3b-9661-e8bc5054a1d4",
   "metadata": {},
   "outputs": [],
   "source": [
    "import pandas as pd"
   ]
  },
  {
   "cell_type": "code",
   "execution_count": 2,
   "id": "f287e1a2-7930-415f-9e50-3681e84d0577",
   "metadata": {},
   "outputs": [
    {
     "data": {
      "text/html": [
       "<div>\n",
       "<style scoped>\n",
       "    .dataframe tbody tr th:only-of-type {\n",
       "        vertical-align: middle;\n",
       "    }\n",
       "\n",
       "    .dataframe tbody tr th {\n",
       "        vertical-align: top;\n",
       "    }\n",
       "\n",
       "    .dataframe thead th {\n",
       "        text-align: right;\n",
       "    }\n",
       "</style>\n",
       "<table border=\"1\" class=\"dataframe\">\n",
       "  <thead>\n",
       "    <tr style=\"text-align: right;\">\n",
       "      <th></th>\n",
       "      <th>C1</th>\n",
       "      <th>C2</th>\n",
       "      <th>C3</th>\n",
       "      <th>C4</th>\n",
       "      <th>C5</th>\n",
       "      <th>C6</th>\n",
       "      <th>C7</th>\n",
       "      <th>C8</th>\n",
       "      <th>C9</th>\n",
       "      <th>C10</th>\n",
       "      <th>...</th>\n",
       "      <th>C21</th>\n",
       "      <th>C22</th>\n",
       "      <th>C23</th>\n",
       "      <th>C24</th>\n",
       "      <th>C25</th>\n",
       "      <th>C26</th>\n",
       "      <th>C27</th>\n",
       "      <th>C28</th>\n",
       "      <th>C29</th>\n",
       "      <th>C30</th>\n",
       "    </tr>\n",
       "  </thead>\n",
       "  <tbody>\n",
       "    <tr>\n",
       "      <th>R1</th>\n",
       "      <td>T</td>\n",
       "      <td>W</td>\n",
       "      <td>W</td>\n",
       "      <td>R</td>\n",
       "      <td>A</td>\n",
       "      <td>L</td>\n",
       "      <td>E</td>\n",
       "      <td>A</td>\n",
       "      <td>J</td>\n",
       "      <td>B</td>\n",
       "      <td>...</td>\n",
       "      <td>H</td>\n",
       "      <td>A</td>\n",
       "      <td>Q</td>\n",
       "      <td>O</td>\n",
       "      <td>S</td>\n",
       "      <td>Q</td>\n",
       "      <td>C</td>\n",
       "      <td>N</td>\n",
       "      <td>TREA</td>\n",
       "      <td>SURE</td>\n",
       "    </tr>\n",
       "    <tr>\n",
       "      <th>R2</th>\n",
       "      <td>U</td>\n",
       "      <td>R</td>\n",
       "      <td>O</td>\n",
       "      <td>N</td>\n",
       "      <td>Y</td>\n",
       "      <td>D</td>\n",
       "      <td>K</td>\n",
       "      <td>N</td>\n",
       "      <td>K</td>\n",
       "      <td>T</td>\n",
       "      <td>...</td>\n",
       "      <td>T</td>\n",
       "      <td>D</td>\n",
       "      <td>M</td>\n",
       "      <td>D</td>\n",
       "      <td>W</td>\n",
       "      <td>F</td>\n",
       "      <td>N</td>\n",
       "      <td>I</td>\n",
       "      <td>E</td>\n",
       "      <td>A</td>\n",
       "    </tr>\n",
       "    <tr>\n",
       "      <th>R3</th>\n",
       "      <td>X</td>\n",
       "      <td>H</td>\n",
       "      <td>E</td>\n",
       "      <td>F</td>\n",
       "      <td>T</td>\n",
       "      <td>C</td>\n",
       "      <td>Y</td>\n",
       "      <td>Z</td>\n",
       "      <td>O</td>\n",
       "      <td>B</td>\n",
       "      <td>...</td>\n",
       "      <td>J</td>\n",
       "      <td>X</td>\n",
       "      <td>S</td>\n",
       "      <td>K</td>\n",
       "      <td>P</td>\n",
       "      <td>A</td>\n",
       "      <td>I</td>\n",
       "      <td>E</td>\n",
       "      <td>S</td>\n",
       "      <td>U</td>\n",
       "    </tr>\n",
       "    <tr>\n",
       "      <th>R4</th>\n",
       "      <td>R</td>\n",
       "      <td>Q</td>\n",
       "      <td>E</td>\n",
       "      <td>A</td>\n",
       "      <td>W</td>\n",
       "      <td>D</td>\n",
       "      <td>X</td>\n",
       "      <td>T</td>\n",
       "      <td>Z</td>\n",
       "      <td>K</td>\n",
       "      <td>...</td>\n",
       "      <td>Y</td>\n",
       "      <td>C</td>\n",
       "      <td>Y</td>\n",
       "      <td>W</td>\n",
       "      <td>P</td>\n",
       "      <td>I</td>\n",
       "      <td>G</td>\n",
       "      <td>B</td>\n",
       "      <td>R</td>\n",
       "      <td>E</td>\n",
       "    </tr>\n",
       "    <tr>\n",
       "      <th>R5</th>\n",
       "      <td>R</td>\n",
       "      <td>G</td>\n",
       "      <td>Q</td>\n",
       "      <td>Z</td>\n",
       "      <td>S</td>\n",
       "      <td>L</td>\n",
       "      <td>W</td>\n",
       "      <td>U</td>\n",
       "      <td>W</td>\n",
       "      <td>Q</td>\n",
       "      <td>...</td>\n",
       "      <td>Z</td>\n",
       "      <td>N</td>\n",
       "      <td>J</td>\n",
       "      <td>R</td>\n",
       "      <td>Z</td>\n",
       "      <td>G</td>\n",
       "      <td>M</td>\n",
       "      <td>P</td>\n",
       "      <td>Q</td>\n",
       "      <td>Y</td>\n",
       "    </tr>\n",
       "  </tbody>\n",
       "</table>\n",
       "<p>5 rows × 30 columns</p>\n",
       "</div>"
      ],
      "text/plain": [
       "   C1 C2 C3 C4 C5 C6 C7 C8 C9 C10  ... C21 C22 C23 C24 C25 C26 C27 C28   C29  \\\n",
       "R1  T  W  W  R  A  L  E  A  J   B  ...   H   A   Q   O   S   Q   C   N  TREA   \n",
       "R2  U  R  O  N  Y  D  K  N  K   T  ...   T   D   M   D   W   F   N   I     E   \n",
       "R3  X  H  E  F  T  C  Y  Z  O   B  ...   J   X   S   K   P   A   I   E     S   \n",
       "R4  R  Q  E  A  W  D  X  T  Z   K  ...   Y   C   Y   W   P   I   G   B     R   \n",
       "R5  R  G  Q  Z  S  L  W  U  W   Q  ...   Z   N   J   R   Z   G   M   P     Q   \n",
       "\n",
       "     C30  \n",
       "R1  SURE  \n",
       "R2     A  \n",
       "R3     U  \n",
       "R4     E  \n",
       "R5     Y  \n",
       "\n",
       "[5 rows x 30 columns]"
      ]
     },
     "execution_count": 2,
     "metadata": {},
     "output_type": "execute_result"
    }
   ],
   "source": [
    "# Load in the file treasure_hunt.csv as a dataframe called treasure_df. \n",
    "# Read in the first column as the dataframe index column and the first row as the dataframe columns.\n",
    "treasure_df = pd.read_csv(\"treasure_hunt.csv\", index_col = 0)\n",
    "treasure_df.head()"
   ]
  },
  {
   "cell_type": "code",
   "execution_count": 3,
   "id": "a9c7fd89-bada-46aa-8a93-d431a4cb7c7f",
   "metadata": {},
   "outputs": [
    {
     "data": {
      "text/plain": [
       "'TREASURE'"
      ]
     },
     "execution_count": 3,
     "metadata": {},
     "output_type": "execute_result"
    }
   ],
   "source": [
    "treasure_df.loc[\"R1\",\"C20\"]"
   ]
  },
  {
   "cell_type": "code",
   "execution_count": 4,
   "id": "c76ee623-00ec-4de7-afc4-9be10fb4ffcb",
   "metadata": {},
   "outputs": [
    {
     "data": {
      "text/plain": [
       "'TREASURE'"
      ]
     },
     "execution_count": 4,
     "metadata": {},
     "output_type": "execute_result"
    }
   ],
   "source": [
    "treasure_df.loc[\"R13\",\"C13\"]"
   ]
  },
  {
   "cell_type": "code",
   "execution_count": 5,
   "id": "44ca695c",
   "metadata": {},
   "outputs": [
    {
     "data": {
      "text/plain": [
       "'TREASURE'"
      ]
     },
     "execution_count": 5,
     "metadata": {},
     "output_type": "execute_result"
    }
   ],
   "source": [
    "treasure_df.loc[\"R28\", \"C10\"]"
   ]
  },
  {
   "cell_type": "code",
   "execution_count": 6,
   "id": "5737b765-5650-4276-a9c5-59d10b452a35",
   "metadata": {},
   "outputs": [
    {
     "data": {
      "text/plain": [
       "'TREASURE'"
      ]
     },
     "execution_count": 6,
     "metadata": {},
     "output_type": "execute_result"
    }
   ],
   "source": [
    "treasure_df.iloc[27,9]"
   ]
  },
  {
   "cell_type": "code",
   "execution_count": 7,
   "id": "f9f3291d",
   "metadata": {},
   "outputs": [
    {
     "data": {
      "text/plain": [
       "'TREASURE'"
      ]
     },
     "execution_count": 7,
     "metadata": {},
     "output_type": "execute_result"
    }
   ],
   "source": [
    "result = \"\"\n",
    "for i in range(18,26):\n",
    "    result += treasure_df.iloc[i,25]\n",
    "result"
   ]
  },
  {
   "cell_type": "code",
   "execution_count": 8,
   "id": "720db3a2-8d2b-44e1-92cd-8bed3727379e",
   "metadata": {},
   "outputs": [
    {
     "data": {
      "text/plain": [
       "'TREASURE'"
      ]
     },
     "execution_count": 8,
     "metadata": {},
     "output_type": "execute_result"
    }
   ],
   "source": [
    "treasure_df.iloc[0,28] + treasure_df.iloc[0,29]"
   ]
  },
  {
   "cell_type": "code",
   "execution_count": 9,
   "id": "6d3d64a3",
   "metadata": {},
   "outputs": [
    {
     "data": {
      "text/plain": [
       "'TREASURE'"
      ]
     },
     "execution_count": 9,
     "metadata": {},
     "output_type": "execute_result"
    }
   ],
   "source": [
    "treasure_df.loc[\"R1\",\"C29\"] + treasure_df.loc[\"R1\",\"C30\"]"
   ]
  },
  {
   "cell_type": "code",
   "execution_count": 10,
   "id": "9089e29c",
   "metadata": {},
   "outputs": [
    {
     "data": {
      "text/plain": [
       "'TREASURE'"
      ]
     },
     "execution_count": 10,
     "metadata": {},
     "output_type": "execute_result"
    }
   ],
   "source": [
    "# The first row of all columns that **do not** have a \"Z\" in the last row.\n",
    "word = \"\"\n",
    "for letter in (treasure_df.iloc[-1][treasure_df.iloc[-1].apply(lambda x: not x.endswith('Z'))].index.tolist()):\n",
    "    word += (treasure_df.loc[\"R1\", letter])\n",
    "word"
   ]
  },
  {
   "cell_type": "markdown",
   "id": "b173a884-dfe1-4928-8c64-eb3cce5e4658",
   "metadata": {},
   "source": [
    "# Mind the gap"
   ]
  },
  {
   "cell_type": "markdown",
   "id": "6cd0a96d-12c6-4afd-b2d2-2d177d5e4b20",
   "metadata": {},
   "source": [
    "We will use the [Gapminder dataset](https://www.gapminder.org/about/). Gapminder is an educational foundation that aims to use data to unbiasedly describe trends in health and socioeconomics; it is a great source of geographical, socioeconomic, and health data - a subset of which we'll be exploring here. In particular, we'll be exploring a dataframe of the following features in this exercise:\n",
    "\n",
    "|     | country     | continent | year | lifeExp | pop      | gdpPercap  |\n",
    "|:---:|:-----------:|:---------:|:----:|:-------:|:--------:|:----------:|\n",
    "|  0  | Afghanistan | Asia      | 1952 | 28.801  | 8425333  | 779.445314 |\n",
    "|  1  | Afghanistan | Asia      | 1957 | 30.332  | 9240934  | 820.853030 |\n",
    "|  2  | Afghanistan | Asia      | 1962 | 31.997  | 10267083 | 853.100710 |\n",
    "|  3  | Afghanistan | Asia      | 1967 | 34.020  | 11537966 | 836.197138 |\n",
    "|  4  | Afghanistan | Asia      | 1972 | 36.088  | 13079460 | 739.981106 |\n",
    "| ... |     ...     |    ...    | ...  |   ...   |   ...    |    ...     |"
   ]
  },
  {
   "cell_type": "markdown",
   "id": "35f3f1e6-4877-4a5e-90c9-a86807d3a09a",
   "metadata": {},
   "source": [
    "Read the gapminder dataset into a dataframe called `df` from this url: <https://raw.githubusercontent.com/jstaf/gapminder/master/gapminder/gapminder.csv>"
   ]
  },
  {
   "cell_type": "code",
   "execution_count": 11,
   "id": "31724038",
   "metadata": {},
   "outputs": [
    {
     "data": {
      "text/html": [
       "<div>\n",
       "<style scoped>\n",
       "    .dataframe tbody tr th:only-of-type {\n",
       "        vertical-align: middle;\n",
       "    }\n",
       "\n",
       "    .dataframe tbody tr th {\n",
       "        vertical-align: top;\n",
       "    }\n",
       "\n",
       "    .dataframe thead th {\n",
       "        text-align: right;\n",
       "    }\n",
       "</style>\n",
       "<table border=\"1\" class=\"dataframe\">\n",
       "  <thead>\n",
       "    <tr style=\"text-align: right;\">\n",
       "      <th></th>\n",
       "      <th>country</th>\n",
       "      <th>continent</th>\n",
       "      <th>year</th>\n",
       "      <th>lifeExp</th>\n",
       "      <th>pop</th>\n",
       "      <th>gdpPercap</th>\n",
       "    </tr>\n",
       "  </thead>\n",
       "  <tbody>\n",
       "    <tr>\n",
       "      <th>0</th>\n",
       "      <td>Afghanistan</td>\n",
       "      <td>Asia</td>\n",
       "      <td>1952</td>\n",
       "      <td>28.801</td>\n",
       "      <td>8425333</td>\n",
       "      <td>779.445314</td>\n",
       "    </tr>\n",
       "    <tr>\n",
       "      <th>1</th>\n",
       "      <td>Afghanistan</td>\n",
       "      <td>Asia</td>\n",
       "      <td>1957</td>\n",
       "      <td>30.332</td>\n",
       "      <td>9240934</td>\n",
       "      <td>820.853030</td>\n",
       "    </tr>\n",
       "    <tr>\n",
       "      <th>2</th>\n",
       "      <td>Afghanistan</td>\n",
       "      <td>Asia</td>\n",
       "      <td>1962</td>\n",
       "      <td>31.997</td>\n",
       "      <td>10267083</td>\n",
       "      <td>853.100710</td>\n",
       "    </tr>\n",
       "    <tr>\n",
       "      <th>3</th>\n",
       "      <td>Afghanistan</td>\n",
       "      <td>Asia</td>\n",
       "      <td>1967</td>\n",
       "      <td>34.020</td>\n",
       "      <td>11537966</td>\n",
       "      <td>836.197138</td>\n",
       "    </tr>\n",
       "    <tr>\n",
       "      <th>4</th>\n",
       "      <td>Afghanistan</td>\n",
       "      <td>Asia</td>\n",
       "      <td>1972</td>\n",
       "      <td>36.088</td>\n",
       "      <td>13079460</td>\n",
       "      <td>739.981106</td>\n",
       "    </tr>\n",
       "    <tr>\n",
       "      <th>5</th>\n",
       "      <td>Afghanistan</td>\n",
       "      <td>Asia</td>\n",
       "      <td>1977</td>\n",
       "      <td>38.438</td>\n",
       "      <td>14880372</td>\n",
       "      <td>786.113360</td>\n",
       "    </tr>\n",
       "    <tr>\n",
       "      <th>6</th>\n",
       "      <td>Afghanistan</td>\n",
       "      <td>Asia</td>\n",
       "      <td>1982</td>\n",
       "      <td>39.854</td>\n",
       "      <td>12881816</td>\n",
       "      <td>978.011439</td>\n",
       "    </tr>\n",
       "    <tr>\n",
       "      <th>7</th>\n",
       "      <td>Afghanistan</td>\n",
       "      <td>Asia</td>\n",
       "      <td>1987</td>\n",
       "      <td>40.822</td>\n",
       "      <td>13867957</td>\n",
       "      <td>852.395945</td>\n",
       "    </tr>\n",
       "    <tr>\n",
       "      <th>8</th>\n",
       "      <td>Afghanistan</td>\n",
       "      <td>Asia</td>\n",
       "      <td>1992</td>\n",
       "      <td>41.674</td>\n",
       "      <td>16317921</td>\n",
       "      <td>649.341395</td>\n",
       "    </tr>\n",
       "    <tr>\n",
       "      <th>9</th>\n",
       "      <td>Afghanistan</td>\n",
       "      <td>Asia</td>\n",
       "      <td>1997</td>\n",
       "      <td>41.763</td>\n",
       "      <td>22227415</td>\n",
       "      <td>635.341351</td>\n",
       "    </tr>\n",
       "  </tbody>\n",
       "</table>\n",
       "</div>"
      ],
      "text/plain": [
       "       country continent  year  lifeExp       pop   gdpPercap\n",
       "0  Afghanistan      Asia  1952   28.801   8425333  779.445314\n",
       "1  Afghanistan      Asia  1957   30.332   9240934  820.853030\n",
       "2  Afghanistan      Asia  1962   31.997  10267083  853.100710\n",
       "3  Afghanistan      Asia  1967   34.020  11537966  836.197138\n",
       "4  Afghanistan      Asia  1972   36.088  13079460  739.981106\n",
       "5  Afghanistan      Asia  1977   38.438  14880372  786.113360\n",
       "6  Afghanistan      Asia  1982   39.854  12881816  978.011439\n",
       "7  Afghanistan      Asia  1987   40.822  13867957  852.395945\n",
       "8  Afghanistan      Asia  1992   41.674  16317921  649.341395\n",
       "9  Afghanistan      Asia  1997   41.763  22227415  635.341351"
      ]
     },
     "execution_count": 11,
     "metadata": {},
     "output_type": "execute_result"
    }
   ],
   "source": [
    "df = pd.read_csv(\"https://raw.githubusercontent.com/jstaf/gapminder/master/gapminder/gapminder.csv\")\n",
    "df.head(10)"
   ]
  },
  {
   "cell_type": "code",
   "execution_count": 12,
   "id": "f192b3c0-ddce-464e-8405-d9b60698133e",
   "metadata": {},
   "outputs": [
    {
     "data": {
      "text/plain": [
       "1704"
      ]
     },
     "execution_count": 12,
     "metadata": {},
     "output_type": "execute_result"
    }
   ],
   "source": [
    "len(df.index)"
   ]
  },
  {
   "cell_type": "markdown",
   "id": "e47dd937-fb42-4d21-9d3e-6894728c03f3",
   "metadata": {},
   "source": [
    "Which continent has the most observations in the gapminder dataset?"
   ]
  },
  {
   "cell_type": "code",
   "execution_count": 13,
   "id": "0d740a88-4647-435b-8945-c83513ca30de",
   "metadata": {},
   "outputs": [
    {
     "data": {
      "text/html": [
       "<div>\n",
       "<style scoped>\n",
       "    .dataframe tbody tr th:only-of-type {\n",
       "        vertical-align: middle;\n",
       "    }\n",
       "\n",
       "    .dataframe tbody tr th {\n",
       "        vertical-align: top;\n",
       "    }\n",
       "\n",
       "    .dataframe thead th {\n",
       "        text-align: right;\n",
       "    }\n",
       "</style>\n",
       "<table border=\"1\" class=\"dataframe\">\n",
       "  <thead>\n",
       "    <tr style=\"text-align: right;\">\n",
       "      <th></th>\n",
       "      <th>continent</th>\n",
       "    </tr>\n",
       "  </thead>\n",
       "  <tbody>\n",
       "    <tr>\n",
       "      <th>Africa</th>\n",
       "      <td>624</td>\n",
       "    </tr>\n",
       "    <tr>\n",
       "      <th>Asia</th>\n",
       "      <td>396</td>\n",
       "    </tr>\n",
       "    <tr>\n",
       "      <th>Europe</th>\n",
       "      <td>360</td>\n",
       "    </tr>\n",
       "    <tr>\n",
       "      <th>Americas</th>\n",
       "      <td>300</td>\n",
       "    </tr>\n",
       "    <tr>\n",
       "      <th>Oceania</th>\n",
       "      <td>24</td>\n",
       "    </tr>\n",
       "  </tbody>\n",
       "</table>\n",
       "</div>"
      ],
      "text/plain": [
       "          continent\n",
       "Africa          624\n",
       "Asia            396\n",
       "Europe          360\n",
       "Americas        300\n",
       "Oceania          24"
      ]
     },
     "execution_count": 13,
     "metadata": {},
     "output_type": "execute_result"
    }
   ],
   "source": [
    "pd.DataFrame(df[\"continent\"].value_counts())"
   ]
  },
  {
   "cell_type": "markdown",
   "id": "9bcb0ed5-d18d-45c3-9b2c-d82c9c35b389",
   "metadata": {},
   "source": [
    "What are the minimum and maximum life expectancies in the dataset, and what are the corresponding countries and the years? "
   ]
  },
  {
   "cell_type": "code",
   "execution_count": 14,
   "id": "929b6ac4",
   "metadata": {},
   "outputs": [
    {
     "name": "stdout",
     "output_type": "stream",
     "text": [
      "Minimum life expectancy: 23.599 \n",
      "Country: Rwanda \n",
      "Year : 1992\n"
     ]
    }
   ],
   "source": [
    "r = df.iloc[df[\"lifeExp\"].argmin()][[\"lifeExp\",\"country\", \"year\"]]\n",
    "print(\"Minimum life expectancy:\",r[0], \"\\nCountry:\", r[1], \"\\nYear :\", r[2])"
   ]
  },
  {
   "cell_type": "code",
   "execution_count": 15,
   "id": "b713ac7e",
   "metadata": {},
   "outputs": [
    {
     "name": "stdout",
     "output_type": "stream",
     "text": [
      "Maximum life expectancy: 82.603 \n",
      "Country: Japan \n",
      "Year : 2007\n"
     ]
    }
   ],
   "source": [
    "r = df.iloc[df[\"lifeExp\"].argmax()][[\"lifeExp\",\"country\", \"year\"]]\n",
    "print(\"Maximum life expectancy:\",r[0], \"\\nCountry:\", r[1], \"\\nYear :\", r[2])"
   ]
  },
  {
   "cell_type": "markdown",
   "id": "1cb9281b-09a2-4108-91c9-2a79bf5e3498",
   "metadata": {},
   "source": [
    "How much larger is the total population in this dataset in 2007 compared to 1952?"
   ]
  },
  {
   "cell_type": "code",
   "execution_count": 16,
   "id": "6dde019b-11de-403c-ba3c-d95f7dbcc07d",
   "metadata": {},
   "outputs": [
    {
     "name": "stdout",
     "output_type": "stream",
     "text": [
      "The population in 2007 is 2.6 times larger than in 1952\n"
     ]
    }
   ],
   "source": [
    "pop1952 = df[df[\"year\"]==1952][\"pop\"].sum()\n",
    "pop2007 = df[df[\"year\"]==2007][\"pop\"].sum()\n",
    "print(f\"The population in 2007 is {pop2007/pop1952:.1f} times larger than in 1952\")"
   ]
  },
  {
   "cell_type": "markdown",
   "id": "a8e571e1-8546-4a5d-a90a-350f9a310c71",
   "metadata": {},
   "source": [
    "What is the mean life expectancy of countries with the highest 50% of `gdpPercap` and countries with the lowest 50% of `gdpPercap`?"
   ]
  },
  {
   "cell_type": "code",
   "execution_count": 17,
   "id": "ed6ceb3f",
   "metadata": {},
   "outputs": [
    {
     "name": "stdout",
     "output_type": "stream",
     "text": [
      "Mean life expectancy of countries with the \u001b[1mhighest 50%\u001b[0m of 'gdpPercap' is: 68.92789084507042\n",
      "Mean life expectancy of countries with the \u001b[1mlowest 50%\u001b[0m of 'gdpPercap' is: 50.02098788732395\n"
     ]
    }
   ],
   "source": [
    "mymed = df[\"gdpPercap\"].median()\n",
    "print(\"Mean life expectancy of countries with the \\033[1mhighest 50%\\033[0m of 'gdpPercap' is:\",df[df[\"gdpPercap\"]>mymed][\"lifeExp\"].mean())\n",
    "print(\"Mean life expectancy of countries with the \\033[1mlowest 50%\\033[0m of 'gdpPercap' is:\",df[df[\"gdpPercap\"]<mymed][\"lifeExp\"].mean())"
   ]
  },
  {
   "cell_type": "markdown",
   "id": "aa09f049",
   "metadata": {},
   "source": [
    "# Dirty to Clean"
   ]
  },
  {
   "cell_type": "markdown",
   "id": "fade4d55-5c8b-4a7b-8376-7321f545c311",
   "metadata": {
    "nbgrader": {
     "grade": false,
     "grade_id": "cell-6cd0b7f72a4c69db",
     "locked": true,
     "schema_version": 3,
     "solution": false,
     "task": false
    }
   },
   "source": [
    "In this task we will clean up a \"dirty\" version of the Gapminder dataset.\n",
    "\n",
    "Our goal is to load in \"dirty Gapminder\" as a dataframe called `dirty` and \"clean Gapminder\" as a dataframe called `clean`, and wrangle `dirty` until it is the same as `clean`:\n",
    "- [Dirty Gapminder](https://raw.githubusercontent.com/STAT545-UBC/STAT545-UBC.github.io/master/gapminderDataFiveYear_dirty.txt)\n",
    "- [Clean Gapminder](https://raw.githubusercontent.com/STAT545-UBC/STAT545-UBC.github.io/master/gapminderDataFiveYear.txt)\n",
    "\n",
    "We will do a test to check that `dirty` is the same as `clean`. Things we might want to do to clean up `dirty`:\n",
    "\n",
    "- Check that `dirty` and `clean` have the same columns;\n",
    "- Check if there is any missing data, if there is missing data (NaNs or empty strings) fill them with sensible values;\n",
    "- Check for things like capitalization, spelling, etc;\n",
    "- There may be entries that appear to have the exact same spelling and capitalization in both `dirty` and `clean`, but still don't match.\n",
    "- Extra whitespace is often a frustrating (and invisible) problem when wrangling text data. We can use `Series.str.strip()` to trim any additional unwanted whitespace around a string.\n",
    "- At any time, we can check which rows in `dirty` are not equal to `clean` using something like: `dirty[dirty.ne(clean).any(axis=1)]`."
   ]
  },
  {
   "cell_type": "code",
   "execution_count": 18,
   "id": "a7533a28",
   "metadata": {},
   "outputs": [],
   "source": [
    "dirty_url = \"https://raw.githubusercontent.com/STAT545-UBC/STAT545-UBC.github.io/master/gapminderDataFiveYear_dirty.txt\"\n",
    "clean_url = \"https://raw.githubusercontent.com/STAT545-UBC/STAT545-UBC.github.io/master/gapminderDataFiveYear.txt\"\n",
    "dirty = pd.read_csv(dirty_url, delimiter = \"\\t\")\n",
    "clean = pd.read_csv(clean_url, delimiter = \"\\t\")"
   ]
  },
  {
   "cell_type": "code",
   "execution_count": 19,
   "id": "e84b1d34-d91b-4fc0-8b68-683ae39372a8",
   "metadata": {},
   "outputs": [
    {
     "data": {
      "text/plain": [
       "country       object\n",
       "year           int64\n",
       "pop          float64\n",
       "continent     object\n",
       "lifeExp      float64\n",
       "gdpPercap    float64\n",
       "dtype: object"
      ]
     },
     "execution_count": 19,
     "metadata": {},
     "output_type": "execute_result"
    }
   ],
   "source": [
    "clean.dtypes"
   ]
  },
  {
   "cell_type": "code",
   "execution_count": 20,
   "id": "1b640372",
   "metadata": {},
   "outputs": [
    {
     "data": {
      "text/plain": [
       "year           int64\n",
       "pop          float64\n",
       "lifeExp      float64\n",
       "gdpPercap    float64\n",
       "region        object\n",
       "dtype: object"
      ]
     },
     "execution_count": 20,
     "metadata": {},
     "output_type": "execute_result"
    }
   ],
   "source": [
    "dirty.dtypes"
   ]
  },
  {
   "cell_type": "code",
   "execution_count": 21,
   "id": "dc493ec3",
   "metadata": {},
   "outputs": [
    {
     "data": {
      "text/html": [
       "<div>\n",
       "<style scoped>\n",
       "    .dataframe tbody tr th:only-of-type {\n",
       "        vertical-align: middle;\n",
       "    }\n",
       "\n",
       "    .dataframe tbody tr th {\n",
       "        vertical-align: top;\n",
       "    }\n",
       "\n",
       "    .dataframe thead th {\n",
       "        text-align: right;\n",
       "    }\n",
       "</style>\n",
       "<table border=\"1\" class=\"dataframe\">\n",
       "  <thead>\n",
       "    <tr style=\"text-align: right;\">\n",
       "      <th></th>\n",
       "      <th>year</th>\n",
       "      <th>pop</th>\n",
       "      <th>lifeExp</th>\n",
       "      <th>gdpPercap</th>\n",
       "      <th>region</th>\n",
       "    </tr>\n",
       "  </thead>\n",
       "  <tbody>\n",
       "    <tr>\n",
       "      <th>0</th>\n",
       "      <td>1952</td>\n",
       "      <td>8425333.0</td>\n",
       "      <td>28.801</td>\n",
       "      <td>779.445314</td>\n",
       "      <td>Asia_Afghanistan</td>\n",
       "    </tr>\n",
       "    <tr>\n",
       "      <th>1</th>\n",
       "      <td>1957</td>\n",
       "      <td>9240934.0</td>\n",
       "      <td>30.332</td>\n",
       "      <td>820.853030</td>\n",
       "      <td>Asia_Afghanistan</td>\n",
       "    </tr>\n",
       "    <tr>\n",
       "      <th>2</th>\n",
       "      <td>1962</td>\n",
       "      <td>10267083.0</td>\n",
       "      <td>31.997</td>\n",
       "      <td>853.100710</td>\n",
       "      <td>Asia_Afghanistan</td>\n",
       "    </tr>\n",
       "    <tr>\n",
       "      <th>3</th>\n",
       "      <td>1967</td>\n",
       "      <td>11537966.0</td>\n",
       "      <td>34.020</td>\n",
       "      <td>836.197138</td>\n",
       "      <td>Asia_Afghanistan</td>\n",
       "    </tr>\n",
       "    <tr>\n",
       "      <th>4</th>\n",
       "      <td>1972</td>\n",
       "      <td>13079460.0</td>\n",
       "      <td>36.088</td>\n",
       "      <td>739.981106</td>\n",
       "      <td>Asia_Afghanistan</td>\n",
       "    </tr>\n",
       "  </tbody>\n",
       "</table>\n",
       "</div>"
      ],
      "text/plain": [
       "   year         pop  lifeExp   gdpPercap            region\n",
       "0  1952   8425333.0   28.801  779.445314  Asia_Afghanistan\n",
       "1  1957   9240934.0   30.332  820.853030  Asia_Afghanistan\n",
       "2  1962  10267083.0   31.997  853.100710  Asia_Afghanistan\n",
       "3  1967  11537966.0   34.020  836.197138  Asia_Afghanistan\n",
       "4  1972  13079460.0   36.088  739.981106  Asia_Afghanistan"
      ]
     },
     "execution_count": 21,
     "metadata": {},
     "output_type": "execute_result"
    }
   ],
   "source": [
    "dirty.head()"
   ]
  },
  {
   "cell_type": "markdown",
   "id": "9e9a25a4",
   "metadata": {},
   "source": [
    "We observe that the data types of the columns match but, the 'region' column will have to be split to create a 'country' column and a 'continent' column and the 'region' column will have to be dropped."
   ]
  },
  {
   "cell_type": "code",
   "execution_count": 22,
   "id": "5e7f352b",
   "metadata": {},
   "outputs": [],
   "source": [
    "dirty[\"country\"] = dirty[\"region\"].str.split(\"_\", expand = True).iloc[:,1] # create 'country' column\n",
    "dirty[\"continent\"] = dirty[\"region\"].str.split(\"_\", expand = True).iloc[:,0] # create 'continent' column\n",
    "dirty = dirty.drop(columns=[\"region\"]) # dropping the 'region column'"
   ]
  },
  {
   "cell_type": "markdown",
   "id": "00cb8e0e",
   "metadata": {},
   "source": [
    "Reordering columns"
   ]
  },
  {
   "cell_type": "code",
   "execution_count": 23,
   "id": "4f84fab3",
   "metadata": {},
   "outputs": [],
   "source": [
    "dirty = dirty[[\"country\",\"year\",\"pop\",\"continent\",\"lifeExp\",\"gdpPercap\"]]"
   ]
  },
  {
   "cell_type": "code",
   "execution_count": 24,
   "id": "22e052f3",
   "metadata": {},
   "outputs": [
    {
     "data": {
      "text/html": [
       "<div>\n",
       "<style scoped>\n",
       "    .dataframe tbody tr th:only-of-type {\n",
       "        vertical-align: middle;\n",
       "    }\n",
       "\n",
       "    .dataframe tbody tr th {\n",
       "        vertical-align: top;\n",
       "    }\n",
       "\n",
       "    .dataframe thead th {\n",
       "        text-align: right;\n",
       "    }\n",
       "</style>\n",
       "<table border=\"1\" class=\"dataframe\">\n",
       "  <thead>\n",
       "    <tr style=\"text-align: right;\">\n",
       "      <th></th>\n",
       "      <th>country</th>\n",
       "      <th>year</th>\n",
       "      <th>pop</th>\n",
       "      <th>continent</th>\n",
       "      <th>lifeExp</th>\n",
       "      <th>gdpPercap</th>\n",
       "    </tr>\n",
       "  </thead>\n",
       "  <tbody>\n",
       "    <tr>\n",
       "      <th>240</th>\n",
       "      <td>Canada</td>\n",
       "      <td>1952</td>\n",
       "      <td>14785584.0</td>\n",
       "      <td></td>\n",
       "      <td>68.75</td>\n",
       "      <td>11367.16112</td>\n",
       "    </tr>\n",
       "    <tr>\n",
       "      <th>241</th>\n",
       "      <td>Canada</td>\n",
       "      <td>1957</td>\n",
       "      <td>17010154.0</td>\n",
       "      <td></td>\n",
       "      <td>69.96</td>\n",
       "      <td>12489.95006</td>\n",
       "    </tr>\n",
       "    <tr>\n",
       "      <th>242</th>\n",
       "      <td>Canada</td>\n",
       "      <td>1962</td>\n",
       "      <td>18985849.0</td>\n",
       "      <td></td>\n",
       "      <td>71.30</td>\n",
       "      <td>13462.48555</td>\n",
       "    </tr>\n",
       "  </tbody>\n",
       "</table>\n",
       "</div>"
      ],
      "text/plain": [
       "    country  year         pop continent  lifeExp    gdpPercap\n",
       "240  Canada  1952  14785584.0              68.75  11367.16112\n",
       "241  Canada  1957  17010154.0              69.96  12489.95006\n",
       "242  Canada  1962  18985849.0              71.30  13462.48555"
      ]
     },
     "execution_count": 24,
     "metadata": {},
     "output_type": "execute_result"
    }
   ],
   "source": [
    "dirty.iloc[240:243,:]"
   ]
  },
  {
   "cell_type": "markdown",
   "id": "be0e20e6",
   "metadata": {},
   "source": [
    "The three column values above need to be assigned the correct 'continent'."
   ]
  },
  {
   "cell_type": "code",
   "execution_count": 25,
   "id": "0e0887df",
   "metadata": {},
   "outputs": [],
   "source": [
    "dirty.loc[(dirty['country'] == \"Canada\") & (dirty[\"continent\"] == \"\"), 'continent'] = 'Americas'"
   ]
  },
  {
   "cell_type": "code",
   "execution_count": 26,
   "id": "bc81e2fc",
   "metadata": {},
   "outputs": [
    {
     "data": {
      "text/html": [
       "<div>\n",
       "<style scoped>\n",
       "    .dataframe tbody tr th:only-of-type {\n",
       "        vertical-align: middle;\n",
       "    }\n",
       "\n",
       "    .dataframe tbody tr th {\n",
       "        vertical-align: top;\n",
       "    }\n",
       "\n",
       "    .dataframe thead th {\n",
       "        text-align: right;\n",
       "    }\n",
       "</style>\n",
       "<table border=\"1\" class=\"dataframe\">\n",
       "  <thead>\n",
       "    <tr style=\"text-align: right;\">\n",
       "      <th></th>\n",
       "      <th>country</th>\n",
       "      <th>year</th>\n",
       "      <th>pop</th>\n",
       "      <th>continent</th>\n",
       "      <th>lifeExp</th>\n",
       "      <th>gdpPercap</th>\n",
       "    </tr>\n",
       "  </thead>\n",
       "  <tbody>\n",
       "    <tr>\n",
       "      <th>257</th>\n",
       "      <td>Central african republic</td>\n",
       "      <td>1977</td>\n",
       "      <td>2.167533e+06</td>\n",
       "      <td>Africa</td>\n",
       "      <td>46.77500</td>\n",
       "      <td>1109.374338</td>\n",
       "    </tr>\n",
       "    <tr>\n",
       "      <th>258</th>\n",
       "      <td>Central african republic</td>\n",
       "      <td>1982</td>\n",
       "      <td>2.476971e+06</td>\n",
       "      <td>Africa</td>\n",
       "      <td>48.29500</td>\n",
       "      <td>956.752991</td>\n",
       "    </tr>\n",
       "    <tr>\n",
       "      <th>259</th>\n",
       "      <td>Central african republic</td>\n",
       "      <td>1987</td>\n",
       "      <td>2.840009e+06</td>\n",
       "      <td>Africa</td>\n",
       "      <td>50.48500</td>\n",
       "      <td>844.876350</td>\n",
       "    </tr>\n",
       "    <tr>\n",
       "      <th>260</th>\n",
       "      <td>Central african republic</td>\n",
       "      <td>1992</td>\n",
       "      <td>3.265124e+06</td>\n",
       "      <td>Africa</td>\n",
       "      <td>49.39600</td>\n",
       "      <td>747.905525</td>\n",
       "    </tr>\n",
       "    <tr>\n",
       "      <th>293</th>\n",
       "      <td>china</td>\n",
       "      <td>1977</td>\n",
       "      <td>9.434550e+08</td>\n",
       "      <td>Asia</td>\n",
       "      <td>63.96736</td>\n",
       "      <td>741.237470</td>\n",
       "    </tr>\n",
       "    <tr>\n",
       "      <th>294</th>\n",
       "      <td>china</td>\n",
       "      <td>1982</td>\n",
       "      <td>1.000281e+09</td>\n",
       "      <td>Asia</td>\n",
       "      <td>65.52500</td>\n",
       "      <td>962.421381</td>\n",
       "    </tr>\n",
       "    <tr>\n",
       "      <th>295</th>\n",
       "      <td>china</td>\n",
       "      <td>1987</td>\n",
       "      <td>1.084035e+09</td>\n",
       "      <td>Asia</td>\n",
       "      <td>67.27400</td>\n",
       "      <td>1378.904018</td>\n",
       "    </tr>\n",
       "    <tr>\n",
       "      <th>296</th>\n",
       "      <td>china</td>\n",
       "      <td>1992</td>\n",
       "      <td>1.164970e+09</td>\n",
       "      <td>Asia</td>\n",
       "      <td>68.69000</td>\n",
       "      <td>1655.784158</td>\n",
       "    </tr>\n",
       "    <tr>\n",
       "      <th>302</th>\n",
       "      <td>Colombia</td>\n",
       "      <td>1962</td>\n",
       "      <td>1.700988e+07</td>\n",
       "      <td>Americas</td>\n",
       "      <td>57.86300</td>\n",
       "      <td>2492.351109</td>\n",
       "    </tr>\n",
       "    <tr>\n",
       "      <th>303</th>\n",
       "      <td>Colombia</td>\n",
       "      <td>1967</td>\n",
       "      <td>1.976403e+07</td>\n",
       "      <td>Americas</td>\n",
       "      <td>59.96300</td>\n",
       "      <td>2678.729839</td>\n",
       "    </tr>\n",
       "    <tr>\n",
       "      <th>328</th>\n",
       "      <td>Democratic Republic of the Congo</td>\n",
       "      <td>1972</td>\n",
       "      <td>2.300767e+07</td>\n",
       "      <td>Africa</td>\n",
       "      <td>45.98900</td>\n",
       "      <td>904.896068</td>\n",
       "    </tr>\n",
       "    <tr>\n",
       "      <th>333</th>\n",
       "      <td>Congo, Democratic Republic</td>\n",
       "      <td>1997</td>\n",
       "      <td>4.779899e+07</td>\n",
       "      <td>Africa</td>\n",
       "      <td>42.58700</td>\n",
       "      <td>312.188423</td>\n",
       "    </tr>\n",
       "    <tr>\n",
       "      <th>369</th>\n",
       "      <td>Cote d'Ivore</td>\n",
       "      <td>1997</td>\n",
       "      <td>1.462597e+07</td>\n",
       "      <td>Africa</td>\n",
       "      <td>47.99100</td>\n",
       "      <td>1786.265407</td>\n",
       "    </tr>\n",
       "    <tr>\n",
       "      <th>815</th>\n",
       "      <td>Jordan</td>\n",
       "      <td>2007</td>\n",
       "      <td>6.053193e+06</td>\n",
       "      <td>Asia</td>\n",
       "      <td>72.53500</td>\n",
       "      <td>4519.461171</td>\n",
       "    </tr>\n",
       "    <tr>\n",
       "      <th>828</th>\n",
       "      <td>Korea, Dem. Rep.</td>\n",
       "      <td>1952</td>\n",
       "      <td>8.865488e+06</td>\n",
       "      <td>Asia</td>\n",
       "      <td>50.05600</td>\n",
       "      <td>1088.277758</td>\n",
       "    </tr>\n",
       "    <tr>\n",
       "      <th>829</th>\n",
       "      <td>Korea, Dem. Rep.</td>\n",
       "      <td>1957</td>\n",
       "      <td>9.411381e+06</td>\n",
       "      <td>Asia</td>\n",
       "      <td>54.08100</td>\n",
       "      <td>1571.134655</td>\n",
       "    </tr>\n",
       "  </tbody>\n",
       "</table>\n",
       "</div>"
      ],
      "text/plain": [
       "                              country  year           pop continent   lifeExp  \\\n",
       "257          Central african republic  1977  2.167533e+06    Africa  46.77500   \n",
       "258          Central african republic  1982  2.476971e+06    Africa  48.29500   \n",
       "259          Central african republic  1987  2.840009e+06    Africa  50.48500   \n",
       "260          Central african republic  1992  3.265124e+06    Africa  49.39600   \n",
       "293                             china  1977  9.434550e+08      Asia  63.96736   \n",
       "294                             china  1982  1.000281e+09      Asia  65.52500   \n",
       "295                             china  1987  1.084035e+09      Asia  67.27400   \n",
       "296                             china  1992  1.164970e+09      Asia  68.69000   \n",
       "302                      Colombia      1962  1.700988e+07  Americas  57.86300   \n",
       "303                      Colombia      1967  1.976403e+07  Americas  59.96300   \n",
       "328  Democratic Republic of the Congo  1972  2.300767e+07    Africa  45.98900   \n",
       "333        Congo, Democratic Republic  1997  4.779899e+07    Africa  42.58700   \n",
       "369                      Cote d'Ivore  1997  1.462597e+07    Africa  47.99100   \n",
       "815                            Jordan  2007  6.053193e+06      Asia  72.53500   \n",
       "828                  Korea, Dem. Rep.  1952  8.865488e+06      Asia  50.05600   \n",
       "829                  Korea, Dem. Rep.  1957  9.411381e+06      Asia  54.08100   \n",
       "\n",
       "       gdpPercap  \n",
       "257  1109.374338  \n",
       "258   956.752991  \n",
       "259   844.876350  \n",
       "260   747.905525  \n",
       "293   741.237470  \n",
       "294   962.421381  \n",
       "295  1378.904018  \n",
       "296  1655.784158  \n",
       "302  2492.351109  \n",
       "303  2678.729839  \n",
       "328   904.896068  \n",
       "333   312.188423  \n",
       "369  1786.265407  \n",
       "815  4519.461171  \n",
       "828  1088.277758  \n",
       "829  1571.134655  "
      ]
     },
     "execution_count": 26,
     "metadata": {},
     "output_type": "execute_result"
    }
   ],
   "source": [
    "dirty[dirty.ne(clean).any(axis=1)]"
   ]
  },
  {
   "cell_type": "code",
   "execution_count": 27,
   "id": "16859215",
   "metadata": {},
   "outputs": [
    {
     "data": {
      "text/plain": [
       "country      False\n",
       "year         False\n",
       "pop          False\n",
       "continent    False\n",
       "lifeExp      False\n",
       "gdpPercap    False\n",
       "dtype: bool"
      ]
     },
     "execution_count": 27,
     "metadata": {},
     "output_type": "execute_result"
    }
   ],
   "source": [
    "dirty.isna().all()"
   ]
  },
  {
   "cell_type": "markdown",
   "id": "97a9b261",
   "metadata": {},
   "source": [
    "There are no NA values in the dirty dataframe as can be seen above."
   ]
  },
  {
   "cell_type": "markdown",
   "id": "80b85773",
   "metadata": {},
   "source": [
    "Removing all white spaces in the entire dataframe."
   ]
  },
  {
   "cell_type": "code",
   "execution_count": 28,
   "id": "5d649817",
   "metadata": {},
   "outputs": [],
   "source": [
    "dirty = dirty.apply(lambda x: x.str.strip() if x.dtype == \"object\" else x)"
   ]
  },
  {
   "cell_type": "markdown",
   "id": "720857fa",
   "metadata": {},
   "source": [
    "Fixing things like the capitlization, titles, country and continent names."
   ]
  },
  {
   "cell_type": "code",
   "execution_count": 29,
   "id": "9d91860b",
   "metadata": {},
   "outputs": [],
   "source": [
    "dirty.loc[257:261, \"country\"] = dirty.loc[257:261, \"country\"].str.title()\n",
    "dirty.loc[293:297, \"country\"] = dirty.loc[293:297, \"country\"].str.capitalize()\n",
    "dirty.loc[369,'country'] = \"Cote d'Ivoire\" \n",
    "dirty.loc[[328, 333],'country'] = \"Congo, Dem. Rep.\""
   ]
  },
  {
   "cell_type": "code",
   "execution_count": 30,
   "id": "9b0ece07",
   "metadata": {},
   "outputs": [
    {
     "data": {
      "text/html": [
       "<div>\n",
       "<style scoped>\n",
       "    .dataframe tbody tr th:only-of-type {\n",
       "        vertical-align: middle;\n",
       "    }\n",
       "\n",
       "    .dataframe tbody tr th {\n",
       "        vertical-align: top;\n",
       "    }\n",
       "\n",
       "    .dataframe thead th {\n",
       "        text-align: right;\n",
       "    }\n",
       "</style>\n",
       "<table border=\"1\" class=\"dataframe\">\n",
       "  <thead>\n",
       "    <tr style=\"text-align: right;\">\n",
       "      <th></th>\n",
       "      <th>country</th>\n",
       "      <th>year</th>\n",
       "      <th>pop</th>\n",
       "      <th>continent</th>\n",
       "      <th>lifeExp</th>\n",
       "      <th>gdpPercap</th>\n",
       "    </tr>\n",
       "  </thead>\n",
       "  <tbody>\n",
       "  </tbody>\n",
       "</table>\n",
       "</div>"
      ],
      "text/plain": [
       "Empty DataFrame\n",
       "Columns: [country, year, pop, continent, lifeExp, gdpPercap]\n",
       "Index: []"
      ]
     },
     "execution_count": 30,
     "metadata": {},
     "output_type": "execute_result"
    }
   ],
   "source": [
    "dirty[dirty.ne(clean).any(axis=1)]"
   ]
  },
  {
   "cell_type": "markdown",
   "id": "2062116b",
   "metadata": {},
   "source": [
    "From above, we can see that all the data in clean dataframe is exactly equal to the data in dirty dataframe."
   ]
  }
 ],
 "metadata": {
  "kernelspec": {
   "display_name": "Python 3 (ipykernel)",
   "language": "python",
   "name": "python3"
  },
  "language_info": {
   "codemirror_mode": {
    "name": "ipython",
    "version": 3
   },
   "file_extension": ".py",
   "mimetype": "text/x-python",
   "name": "python",
   "nbconvert_exporter": "python",
   "pygments_lexer": "ipython3",
   "version": "3.9.15"
  }
 },
 "nbformat": 4,
 "nbformat_minor": 5
}
